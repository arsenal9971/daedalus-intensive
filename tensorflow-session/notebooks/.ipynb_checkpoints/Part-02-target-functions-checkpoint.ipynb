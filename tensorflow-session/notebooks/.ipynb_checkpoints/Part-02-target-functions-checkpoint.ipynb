{
 "cells": [
  {
   "cell_type": "markdown",
   "metadata": {},
   "source": [
    "# Approximating functions with deep ReLU networks\n",
    "*Practical session during the [DEADALUS Introductory Intensive Course](https://daedalus-berlin.github.io/events.html), December, 2018.*\n",
    "The content is mostly based on [D. Yarotsky, 2017](https://www.sciencedirect.com/science/article/pii/S0893608017301545).\n",
    "\n",
    "## Part III: The class of target functions\n",
    "\n",
    "In this part we will discuss the set of functions that can be well approximated by deep ReLU networks.\n",
    "\n",
    "In general, we consider functions in the **Sobolev space**\n",
    "\n",
    "$$ W^{n,\\infty}\\left((0,1)^d\\right) $$\n",
    "\n",
    "that is functions on the $d$-dimensional unit cube with all weak derivates up to order $n$ in $L^\\infty$.\n",
    "\n",
    "Note that the Sobolev embedding theorem tells us that there is an **embedding** of Sobolev spaces to Hölder spaces\n",
    "\n",
    "$$ W^{n, p}\\left((0,1)^d\\right) \\hookrightarrow C^{k, \\alpha}\\left((0,1)^d\\right) $$\n",
    "\n",
    "if we have\n",
    "\n",
    "$$ \\frac{1}{p} - \\frac{n}{d} = -\\frac{k+\\alpha}{d}, \\quad 0<\\alpha\\leq 1 $$\n",
    "\n",
    "which in our case of $p=\\infty$ yields\n",
    "\n",
    "$$ W^{n, \\infty}\\left((0,1)^d\\right) \\hookrightarrow C^{n-1, 1}\\left((0,1)^d\\right). $$\n",
    "\n",
    "So we can simply think of $n-1$ times **continously differentiable** functions whose derivatives of order $n-1$ are **Lipschitz continuous**.\n",
    "\n",
    "The approximation rates derived by Yarotsky depend on the regularity $n$ and dimension $d$ and are valid for the unit balls $F_{n, d}$ in $W^{n, \\infty}\\left((0,1)^d\\right)$.\n",
    "\n",
    "For the purpose of visualizations we restrict ourself to the two-dimensional case $d=2$ from now on. "
   ]
  },
  {
   "cell_type": "code",
   "execution_count": null,
   "metadata": {},
   "outputs": [],
   "source": [
    "import numpy as np\n",
    "import matplotlib.pyplot as plt\n",
    "from scipy.special import binom\n",
    "from ipywidgets import HBox, VBox, IntSlider, FloatSlider, interactive_output\n",
    "plt.rcParams['figure.figsize'] = (15,6)\n",
    "plt.rcParams['text.usetex'] = True\n",
    "plt.rcParams['font.size'] = 12"
   ]
  },
  {
   "cell_type": "markdown",
   "metadata": {},
   "source": [
    "### Bernstein polynomials\n",
    "\n",
    "The network architectures constructed by Yarotsky first approximate polynomials and then build local Taylor expansions to approximate more general functions. So let us start with some polymials, for example **Berstein polynomials** on $(0,1$).\n",
    "\n",
    "These are defined as\n",
    "\n",
    "$$ b_{k, n}(x) = {n\\choose k} x^k (1-x)^{n-k},\\quad k=0, 1, \\dots, n, \\quad n\\in\\mathbb{N}.$$"
   ]
  },
  {
   "cell_type": "code",
   "execution_count": null,
   "metadata": {},
   "outputs": [],
   "source": [
    "# numpy vectorized Bernstein polynomial\n",
    "def bernstein(x, k, n):\n",
    "    assert (0<=k and k<=n), \\\n",
    "        'Berstein polynomial only defined for 0<=k<=n, got (n, k)=({},{}) instead'.format(n,k)\n",
    "    return binom(n, k)*(x**k)*((1-x)**(n-k))\n",
    "\n",
    "# numpy vectorized derivative of Bernstein polynomials\n",
    "def Dbernstein(x, k, n):\n",
    "    assert (0<=k and k<=n), \\\n",
    "        'Berstein polynomial only defined for 0<=k<=n, got (n, k)=({},{}) instead'.format(n,k)\n",
    "    if n==0 or k==0:\n",
    "        b1 = 0*x\n",
    "    else:\n",
    "        b1 = bernstein(x, k-1, n-1)\n",
    "    if n==0 or k==n:\n",
    "        b2 = 0*x\n",
    "    else:\n",
    "        b2 = bernstein(x, k, n-1)\n",
    "    return n*(b1 - b2)"
   ]
  },
  {
   "cell_type": "code",
   "execution_count": null,
   "metadata": {},
   "outputs": [],
   "source": [
    "# setup domain and plotting grid points\n",
    "domain = [0.0, 1.0]\n",
    "resolution = 100\n",
    "xs = np.linspace(domain[0], domain[1], resolution)\n",
    "\n",
    "# plot various Bernstein polynomials\n",
    "plt.figure()\n",
    "for n in range(5):\n",
    "    plt.subplot(1,5,n+1)\n",
    "    for k in range(n+1):\n",
    "        plt.plot(xs, bernstein(xs, k, n))\n",
    "        plt.xlabel('$x$')\n",
    "        plt.ylabel('$y$')\n",
    "        plt.title('$n={}$'.format(n))\n",
    "    plt.subplots_adjust(wspace=0.5)\n",
    "    plt.suptitle('Bernstein polynomials')\n",
    "\n",
    "# plot derivatives of various Bernstein polynomials    \n",
    "plt.figure()\n",
    "for n in range(5):\n",
    "    plt.subplot(1,5,n+1)\n",
    "    for k in range(n+1):\n",
    "        plt.plot(xs, Dbernstein(xs, k, n))\n",
    "        plt.xlabel('$x$')\n",
    "        plt.ylabel('$y$')\n",
    "        plt.title('$n={}$'.format(n))\n",
    "    plt.subplots_adjust(wspace=0.5)\n",
    "    plt.suptitle('Derivatives of Bernstein polynomials')\n",
    "        "
   ]
  },
  {
   "cell_type": "markdown",
   "metadata": {},
   "source": [
    "### Berstein polynomial tensor products\n",
    "\n",
    "For the two-dimensional case we simple take **tensor products** of one-dimensional Berstein polynomials\n",
    "\n",
    "$$ b_{(k_x, k_y), (n_x, n_y)}(x, y) = b_{k_x, n_x}(x) b_{k_y, n_y} (y).$$"
   ]
  },
  {
   "cell_type": "code",
   "execution_count": null,
   "metadata": {
    "scrolled": true
   },
   "outputs": [],
   "source": [
    "# numpy vectorized Bernstein polynomial tensor products\n",
    "def bernstein2d(xgrid, ygrid, k, n):\n",
    "    assert (np.all(0<=np.asarray(k)) and np.all(np.asarray(k)<=np.asarray(n))), \\\n",
    "        'Berstein polynomial only defined for 0<=k<=n, got (n, k)=({},{}) instead'.format(n,k)\n",
    "    return bernstein(xgrid, k[0], n[0])*bernstein(ygrid, k[1], n[1])\n",
    "\n",
    "# numpy vectorized partial derivatives of Bernstein polynomial tensor products\n",
    "def Dbernstein2d(xgrid, ygrid, k, n):\n",
    "    assert (np.all(0<=np.asarray(k)) and np.all(np.asarray(k)<=np.asarray(n))), \\\n",
    "        'Berstein polynomial only defined for 0<=k<=n, got (n, k)=({},{}) instead'.format(n,k)\n",
    "    Dx = Dbernstein(xgrid, k[0], n[0])*bernstein(ygrid, k[1], n[1])\n",
    "    Dy = bernstein(xgrid, k[0], n[0])*Dbernstein(ygrid, k[1], n[1])\n",
    "    return (Dx, Dy)"
   ]
  },
  {
   "cell_type": "code",
   "execution_count": null,
   "metadata": {},
   "outputs": [],
   "source": [
    "# setup domain and plotting grid points\n",
    "domain = [0.0, 1.0, 0.0, 1.0]\n",
    "resolution = 100\n",
    "xs = np.linspace(domain[0], domain[1], resolution)\n",
    "ys = np.linspace(domain[0], domain[1], resolution)\n",
    "xgrid, ygrid = np.meshgrid(xs, ys)\n",
    "n = np.asarray([3, 4])\n",
    "k = np.asarray([2, 3])\n",
    "\n",
    "\n",
    "# plot 2D Bernstein polynomials and partial derivatives\n",
    "zs = bernstein2d(xgrid, ygrid, k, n)\n",
    "zsDx, zsDy = Dbernstein2d(xgrid, ygrid, k, n)\n",
    "\n",
    "plt.subplot(1,3,1)\n",
    "plt.imshow(zs, extent=domain, origin='lower')\n",
    "plt.title('2D Bernstein polynomial')\n",
    "\n",
    "plt.subplot(1,3,2)\n",
    "plt.imshow(zsDx, extent=domain, origin='lower')\n",
    "plt.title('partial derivative $\\partial_x$')\n",
    "\n",
    "\n",
    "plt.subplot(1,3,3)\n",
    "plt.imshow(zsDy, extent=domain, origin='lower')\n",
    "plt.title('partial derivative $\\partial_y$')\n",
    "\n",
    "plt.suptitle('2D tensor product Bernstein polynomial for $(n_x, n_y)=(3, 4)$ and $(k_x, k_y)=(2, 3)$');"
   ]
  },
  {
   "cell_type": "markdown",
   "metadata": {},
   "source": [
    "### Functions with limited regularity\n",
    "\n",
    "Using the Bernstein polynomials described above will not allow us to see the dependence of approximation rates on the regularty $n$ as all polynomials are infinitely regular. Therefore, we will add functions with **limited regularity** to our family of target functions.\n",
    "\n",
    "For this consider the **signum** function\n",
    "\n",
    "$$ \\mathrm{sign}(x) = \\begin{cases} 1\\quad &, x>0\\\\ 0\\quad &, x=0\\\\ -1\\quad &, x<0 \\end{cases} $$\n",
    "\n",
    "which is not even continuous but integrable over $(0,1)$. **Integrating** this function $n$ times, we obtain the function\n",
    "\n",
    "$$ \\tilde{h}_n(x) = \\frac{1}{n!} x^n \\mathrm{sign}(x) $$\n",
    "\n",
    "which is $n-1$ times continuously differentiable and the $(n-1)$-th derivative is Lipschitz continuous. The problematic point is of course $x=0$, so in order to have this point within our domain of interet $(0,1)$ we can simply consider the scaled and shifted function \n",
    "\n",
    "$$ h_n(x) = \\tilde{h}_N\\left(2x-1\\right). $$\n",
    "\n",
    "Then $h_n\\in W^{n,\\infty}\\left((0,1)\\right)$ but $h_n\\notin W^{n+1,\\infty}\\left((0,1)\\right)$."
   ]
  },
  {
   "cell_type": "code",
   "execution_count": null,
   "metadata": {},
   "outputs": [],
   "source": [
    "#numpy vectorized integrated sign function\n",
    "def signpoly(x, n):\n",
    "    return 1/np.math.factorial(n)*np.power(x, n)*np.sign(x)"
   ]
  },
  {
   "cell_type": "code",
   "execution_count": null,
   "metadata": {},
   "outputs": [],
   "source": [
    "# setup domain and plotting grid points\n",
    "domain = [0.0, 1.0]\n",
    "resolution = 100\n",
    "xs = np.linspace(domain[0], domain[1], resolution)\n",
    "\n",
    "# plot various Bernstein polynomials\n",
    "plt.figure()\n",
    "for n in range(5):\n",
    "    plt.subplot(1,5,n+1)\n",
    "    plt.plot(xs, signpoly(2*xs-1, n))\n",
    "    plt.xlabel('$x$')\n",
    "    plt.ylabel('$y$')\n",
    "    plt.ylim(-1.1/np.math.factorial(n), 1.1/np.math.factorial(n))\n",
    "    plt.title('$n={}$'.format(n))\n",
    "plt.subplots_adjust(wspace=0.5)\n",
    "plt.suptitle('shifted integrated sign functions');"
   ]
  },
  {
   "cell_type": "markdown",
   "metadata": {},
   "source": [
    "Again we simply use tensor products to extend this to two dimensions\n",
    "\n",
    "$$ h_{n_x, n_y}(x, y) = h_{n_x}(x) h_{n_y}(y) .$$"
   ]
  },
  {
   "cell_type": "code",
   "execution_count": null,
   "metadata": {},
   "outputs": [],
   "source": [
    "# setup domain and plotting grid points\n",
    "domain = [0.0, 1.0, 0.0, 1.0]\n",
    "resolution = 100\n",
    "xs = np.linspace(domain[0], domain[1], resolution)\n",
    "ys = np.linspace(domain[0], domain[1], resolution)\n",
    "xgrid, ygrid = np.meshgrid(xs, ys)\n",
    "\n",
    "# create sliders for interactive plot\n",
    "n1_slider = IntSlider(1.0, min=0.0, max=5.0, description='$n_x$')\n",
    "n2_slider = IntSlider(1.0, min=0.0, max=5.0, description='$n_y$')\n",
    "c1_slider = FloatSlider(0.0, min=-1.0, max=1.0, description='$c_x$')\n",
    "c2_slider = FloatSlider(0.0, min=-1.0, max=1.0, description='$c_y$')\n",
    "\n",
    "# prepare plot of 2D tensor product of shifted integrated sign functions\n",
    "def plot_signpoly2d(n1=n1_slider, n2=n2_slider, c1=c1_slider, c2=c2_slider):\n",
    "    zs = signpoly(2*(xgrid-c1)-1, n1)*signpoly(2*(ygrid-c2)-1, n2)\n",
    "    vscale= 1/np.math.factorial(n1)/np.math.factorial(n2)\n",
    "    plt.imshow(zs, extent=domain, origin='lower', vmin=-vscale, vmax=vscale)\n",
    "    plt.title('integrated sign $h_{n_x, n_y}(x-c_x, y-c_y)$')\n",
    "    plt.xlabel('$x$')\n",
    "    plt.ylabel('$y$')\n",
    "    \n",
    "# show interactive plot\n",
    "plot = interactive_output(plot_signpoly2d, {'n1':n1_slider, 'n2':n2_slider, 'c1':c1_slider, 'c2':c2_slider})\n",
    "HBox([plot, VBox([n1_slider, n2_slider, c1_slider, c2_slider])])    \n"
   ]
  },
  {
   "cell_type": "markdown",
   "metadata": {},
   "source": [
    "Finally, we take a linear combination of a Bernstein polynomials and integrated sign functions\n",
    "\n",
    "$$ f(x, y) = w_1 b_{(k_x, k_y), (n_x, n_y)}(x, y) + w_2 h_{m_x, m_y} (x-c_x, y-c_y) $$"
   ]
  },
  {
   "cell_type": "code",
   "execution_count": null,
   "metadata": {},
   "outputs": [],
   "source": [
    "# setup domain and plotting grid points\n",
    "domain = [0.0, 1.0, 0.0, 1.0]\n",
    "resolution = 100\n",
    "xs = np.linspace(domain[0], domain[1], resolution)\n",
    "ys = np.linspace(domain[0], domain[1], resolution)\n",
    "xgrid, ygrid = np.meshgrid(xs, ys)\n",
    "\n",
    "k1, k2 = 2, 3\n",
    "n1, n2 = 3, 4\n",
    "m1, m2 = 2, 3\n",
    "c1, c2 = 0.4, 0.6\n",
    "w1, w2 = 2, 2*np.math.factorial(m1)*np.math.factorial(m2)\n",
    "\n",
    "#plot 2D Bernstein plus integrated sign function\n",
    "zs1 = bernstein2d(xgrid, ygrid, (k1, k2), (n1, n2))\n",
    "zs2 = signpoly(xgrid-c1, m1)*signpoly(ygrid-c2, m2)\n",
    "zs = w1 * zs1 + w2 * zs2\n",
    "\n",
    "plt.subplot(1,3,1)\n",
    "plt.imshow(zs, extent=domain, origin='lower')\n",
    "plt.xlabel('$x$')\n",
    "plt.ylabel('$y$')\n",
    "plt.title('weighted sum $f(x, y)$ \\n $w_1 = 2, w_2 = 2 m_x! m_2!$');\n",
    "\n",
    "plt.subplot(1,3,2)\n",
    "plt.imshow(zs1, extent=domain, origin='lower')\n",
    "plt.xlabel('$x$')\n",
    "plt.ylabel('$y$')\n",
    "plt.title('2D Bernstein polynomial \\n $(k_x, k_y) = (2, 3), (n_x, n_y) = (3, 4)$');\n",
    "\n",
    "plt.subplot(1,3,3)\n",
    "plt.imshow(zs2, extent=domain, origin='lower')\n",
    "plt.xlabel('$x$')\n",
    "plt.ylabel('$y$')\n",
    "plt.title('2D integrated sign function \\n $(m_x, m_y) = (2, 3), (c_x, c_y) = (0.4, 0.6)$');"
   ]
  },
  {
   "cell_type": "code",
   "execution_count": null,
   "metadata": {},
   "outputs": [],
   "source": []
  }
 ],
 "metadata": {
  "kernelspec": {
   "display_name": "Python 3",
   "language": "python",
   "name": "python3"
  },
  "language_info": {
   "codemirror_mode": {
    "name": "ipython",
    "version": 3
   },
   "file_extension": ".py",
   "mimetype": "text/x-python",
   "name": "python",
   "nbconvert_exporter": "python",
   "pygments_lexer": "ipython3",
   "version": "3.6.6"
  }
 },
 "nbformat": 4,
 "nbformat_minor": 2
}
