{
 "cells": [
  {
   "cell_type": "markdown",
   "metadata": {},
   "source": [
    "# Approximating functions with deep ReLU networks\n",
    "*Practical session during the [DEADALUS Introductory Intensive Course](https://daedalus-berlin.github.io/events.html), December, 2018.*\n",
    "The content is mostly based on [D. Yarotsky, 2017](https://www.sciencedirect.com/science/article/pii/S0893608017301545).\n",
    "\n",
    "## Part II: Getting started with Tensorflow\n",
    "\n",
    "In this part we will introduce the basic concepts of using Tensorflow. This is not yet related to the approximation theoretic results."
   ]
  },
  {
   "cell_type": "code",
   "execution_count": 1,
   "metadata": {},
   "outputs": [
    {
     "ename": "ImportError",
     "evalue": "Traceback (most recent call last):\n  File \"/homes/extern/janmacdo/store/.miniconda3/envs/deepl/lib/python3.6/site-packages/tensorflow/python/pywrap_tensorflow.py\", line 58, in <module>\n    from tensorflow.python.pywrap_tensorflow_internal import *\n  File \"/homes/extern/janmacdo/store/.miniconda3/envs/deepl/lib/python3.6/site-packages/tensorflow/python/pywrap_tensorflow_internal.py\", line 28, in <module>\n    _pywrap_tensorflow_internal = swig_import_helper()\n  File \"/homes/extern/janmacdo/store/.miniconda3/envs/deepl/lib/python3.6/site-packages/tensorflow/python/pywrap_tensorflow_internal.py\", line 24, in swig_import_helper\n    _mod = imp.load_module('_pywrap_tensorflow_internal', fp, pathname, description)\n  File \"/homes/extern/janmacdo/store/.miniconda3/envs/deepl/lib/python3.6/imp.py\", line 243, in load_module\n    return load_dynamic(name, filename, file)\n  File \"/homes/extern/janmacdo/store/.miniconda3/envs/deepl/lib/python3.6/imp.py\", line 343, in load_dynamic\n    return _load(spec)\nImportError: libcuda.so.1: cannot open shared object file: No such file or directory\n\n\nFailed to load the native TensorFlow runtime.\n\nSee https://www.tensorflow.org/install/errors\n\nfor some common reasons and solutions.  Include the entire stack trace\nabove this error message when asking for help.",
     "output_type": "error",
     "traceback": [
      "\u001b[0;31m---------------------------------------------------------------------------\u001b[0m",
      "\u001b[0;31mImportError\u001b[0m                               Traceback (most recent call last)",
      "\u001b[0;32m~/store/.miniconda3/envs/deepl/lib/python3.6/site-packages/tensorflow/python/pywrap_tensorflow.py\u001b[0m in \u001b[0;36m<module>\u001b[0;34m\u001b[0m\n\u001b[1;32m     57\u001b[0m \u001b[0;34m\u001b[0m\u001b[0m\n\u001b[0;32m---> 58\u001b[0;31m   \u001b[0;32mfrom\u001b[0m \u001b[0mtensorflow\u001b[0m\u001b[0;34m.\u001b[0m\u001b[0mpython\u001b[0m\u001b[0;34m.\u001b[0m\u001b[0mpywrap_tensorflow_internal\u001b[0m \u001b[0;32mimport\u001b[0m \u001b[0;34m*\u001b[0m\u001b[0;34m\u001b[0m\u001b[0m\n\u001b[0m\u001b[1;32m     59\u001b[0m   \u001b[0;32mfrom\u001b[0m \u001b[0mtensorflow\u001b[0m\u001b[0;34m.\u001b[0m\u001b[0mpython\u001b[0m\u001b[0;34m.\u001b[0m\u001b[0mpywrap_tensorflow_internal\u001b[0m \u001b[0;32mimport\u001b[0m \u001b[0m__version__\u001b[0m\u001b[0;34m\u001b[0m\u001b[0m\n",
      "\u001b[0;32m~/store/.miniconda3/envs/deepl/lib/python3.6/site-packages/tensorflow/python/pywrap_tensorflow_internal.py\u001b[0m in \u001b[0;36m<module>\u001b[0;34m\u001b[0m\n\u001b[1;32m     27\u001b[0m             \u001b[0;32mreturn\u001b[0m \u001b[0m_mod\u001b[0m\u001b[0;34m\u001b[0m\u001b[0m\n\u001b[0;32m---> 28\u001b[0;31m     \u001b[0m_pywrap_tensorflow_internal\u001b[0m \u001b[0;34m=\u001b[0m \u001b[0mswig_import_helper\u001b[0m\u001b[0;34m(\u001b[0m\u001b[0;34m)\u001b[0m\u001b[0;34m\u001b[0m\u001b[0m\n\u001b[0m\u001b[1;32m     29\u001b[0m     \u001b[0;32mdel\u001b[0m \u001b[0mswig_import_helper\u001b[0m\u001b[0;34m\u001b[0m\u001b[0m\n",
      "\u001b[0;32m~/store/.miniconda3/envs/deepl/lib/python3.6/site-packages/tensorflow/python/pywrap_tensorflow_internal.py\u001b[0m in \u001b[0;36mswig_import_helper\u001b[0;34m()\u001b[0m\n\u001b[1;32m     23\u001b[0m             \u001b[0;32mtry\u001b[0m\u001b[0;34m:\u001b[0m\u001b[0;34m\u001b[0m\u001b[0m\n\u001b[0;32m---> 24\u001b[0;31m                 \u001b[0m_mod\u001b[0m \u001b[0;34m=\u001b[0m \u001b[0mimp\u001b[0m\u001b[0;34m.\u001b[0m\u001b[0mload_module\u001b[0m\u001b[0;34m(\u001b[0m\u001b[0;34m'_pywrap_tensorflow_internal'\u001b[0m\u001b[0;34m,\u001b[0m \u001b[0mfp\u001b[0m\u001b[0;34m,\u001b[0m \u001b[0mpathname\u001b[0m\u001b[0;34m,\u001b[0m \u001b[0mdescription\u001b[0m\u001b[0;34m)\u001b[0m\u001b[0;34m\u001b[0m\u001b[0m\n\u001b[0m\u001b[1;32m     25\u001b[0m             \u001b[0;32mfinally\u001b[0m\u001b[0;34m:\u001b[0m\u001b[0;34m\u001b[0m\u001b[0m\n",
      "\u001b[0;32m~/store/.miniconda3/envs/deepl/lib/python3.6/imp.py\u001b[0m in \u001b[0;36mload_module\u001b[0;34m(name, file, filename, details)\u001b[0m\n\u001b[1;32m    242\u001b[0m         \u001b[0;32melse\u001b[0m\u001b[0;34m:\u001b[0m\u001b[0;34m\u001b[0m\u001b[0m\n\u001b[0;32m--> 243\u001b[0;31m             \u001b[0;32mreturn\u001b[0m \u001b[0mload_dynamic\u001b[0m\u001b[0;34m(\u001b[0m\u001b[0mname\u001b[0m\u001b[0;34m,\u001b[0m \u001b[0mfilename\u001b[0m\u001b[0;34m,\u001b[0m \u001b[0mfile\u001b[0m\u001b[0;34m)\u001b[0m\u001b[0;34m\u001b[0m\u001b[0m\n\u001b[0m\u001b[1;32m    244\u001b[0m     \u001b[0;32melif\u001b[0m \u001b[0mtype_\u001b[0m \u001b[0;34m==\u001b[0m \u001b[0mPKG_DIRECTORY\u001b[0m\u001b[0;34m:\u001b[0m\u001b[0;34m\u001b[0m\u001b[0m\n",
      "\u001b[0;32m~/store/.miniconda3/envs/deepl/lib/python3.6/imp.py\u001b[0m in \u001b[0;36mload_dynamic\u001b[0;34m(name, path, file)\u001b[0m\n\u001b[1;32m    342\u001b[0m             name=name, loader=loader, origin=path)\n\u001b[0;32m--> 343\u001b[0;31m         \u001b[0;32mreturn\u001b[0m \u001b[0m_load\u001b[0m\u001b[0;34m(\u001b[0m\u001b[0mspec\u001b[0m\u001b[0;34m)\u001b[0m\u001b[0;34m\u001b[0m\u001b[0m\n\u001b[0m\u001b[1;32m    344\u001b[0m \u001b[0;34m\u001b[0m\u001b[0m\n",
      "\u001b[0;31mImportError\u001b[0m: libcuda.so.1: cannot open shared object file: No such file or directory",
      "\nDuring handling of the above exception, another exception occurred:\n",
      "\u001b[0;31mImportError\u001b[0m                               Traceback (most recent call last)",
      "\u001b[0;32m<ipython-input-1-4282574fb12a>\u001b[0m in \u001b[0;36m<module>\u001b[0;34m\u001b[0m\n\u001b[1;32m      1\u001b[0m \u001b[0;32mimport\u001b[0m \u001b[0mnumpy\u001b[0m \u001b[0;32mas\u001b[0m \u001b[0mnp\u001b[0m\u001b[0;34m\u001b[0m\u001b[0m\n\u001b[0;32m----> 2\u001b[0;31m \u001b[0;32mimport\u001b[0m \u001b[0mtensorflow\u001b[0m \u001b[0;32mas\u001b[0m \u001b[0mtf\u001b[0m\u001b[0;34m\u001b[0m\u001b[0m\n\u001b[0m",
      "\u001b[0;32m~/store/.miniconda3/envs/deepl/lib/python3.6/site-packages/tensorflow/__init__.py\u001b[0m in \u001b[0;36m<module>\u001b[0;34m\u001b[0m\n\u001b[1;32m     22\u001b[0m \u001b[0;34m\u001b[0m\u001b[0m\n\u001b[1;32m     23\u001b[0m \u001b[0;31m# pylint: disable=g-bad-import-order\u001b[0m\u001b[0;34m\u001b[0m\u001b[0;34m\u001b[0m\u001b[0m\n\u001b[0;32m---> 24\u001b[0;31m \u001b[0;32mfrom\u001b[0m \u001b[0mtensorflow\u001b[0m\u001b[0;34m.\u001b[0m\u001b[0mpython\u001b[0m \u001b[0;32mimport\u001b[0m \u001b[0mpywrap_tensorflow\u001b[0m  \u001b[0;31m# pylint: disable=unused-import\u001b[0m\u001b[0;34m\u001b[0m\u001b[0m\n\u001b[0m\u001b[1;32m     25\u001b[0m \u001b[0;34m\u001b[0m\u001b[0m\n\u001b[1;32m     26\u001b[0m \u001b[0;32mtry\u001b[0m\u001b[0;34m:\u001b[0m\u001b[0;34m\u001b[0m\u001b[0m\n",
      "\u001b[0;32m~/store/.miniconda3/envs/deepl/lib/python3.6/site-packages/tensorflow/python/__init__.py\u001b[0m in \u001b[0;36m<module>\u001b[0;34m\u001b[0m\n\u001b[1;32m     47\u001b[0m \u001b[0;32mimport\u001b[0m \u001b[0mnumpy\u001b[0m \u001b[0;32mas\u001b[0m \u001b[0mnp\u001b[0m\u001b[0;34m\u001b[0m\u001b[0m\n\u001b[1;32m     48\u001b[0m \u001b[0;34m\u001b[0m\u001b[0m\n\u001b[0;32m---> 49\u001b[0;31m \u001b[0;32mfrom\u001b[0m \u001b[0mtensorflow\u001b[0m\u001b[0;34m.\u001b[0m\u001b[0mpython\u001b[0m \u001b[0;32mimport\u001b[0m \u001b[0mpywrap_tensorflow\u001b[0m\u001b[0;34m\u001b[0m\u001b[0m\n\u001b[0m\u001b[1;32m     50\u001b[0m \u001b[0;34m\u001b[0m\u001b[0m\n\u001b[1;32m     51\u001b[0m \u001b[0;32mfrom\u001b[0m \u001b[0mtensorflow\u001b[0m\u001b[0;34m.\u001b[0m\u001b[0mpython\u001b[0m\u001b[0;34m.\u001b[0m\u001b[0mtools\u001b[0m \u001b[0;32mimport\u001b[0m \u001b[0mcomponent_api_helper\u001b[0m\u001b[0;34m\u001b[0m\u001b[0m\n",
      "\u001b[0;32m~/store/.miniconda3/envs/deepl/lib/python3.6/site-packages/tensorflow/python/pywrap_tensorflow.py\u001b[0m in \u001b[0;36m<module>\u001b[0;34m\u001b[0m\n\u001b[1;32m     72\u001b[0m \u001b[0;32mfor\u001b[0m \u001b[0msome\u001b[0m \u001b[0mcommon\u001b[0m \u001b[0mreasons\u001b[0m \u001b[0;32mand\u001b[0m \u001b[0msolutions\u001b[0m\u001b[0;34m.\u001b[0m  \u001b[0mInclude\u001b[0m \u001b[0mthe\u001b[0m \u001b[0mentire\u001b[0m \u001b[0mstack\u001b[0m \u001b[0mtrace\u001b[0m\u001b[0;34m\u001b[0m\u001b[0m\n\u001b[1;32m     73\u001b[0m above this error message when asking for help.\"\"\" % traceback.format_exc()\n\u001b[0;32m---> 74\u001b[0;31m   \u001b[0;32mraise\u001b[0m \u001b[0mImportError\u001b[0m\u001b[0;34m(\u001b[0m\u001b[0mmsg\u001b[0m\u001b[0;34m)\u001b[0m\u001b[0;34m\u001b[0m\u001b[0m\n\u001b[0m\u001b[1;32m     75\u001b[0m \u001b[0;34m\u001b[0m\u001b[0m\n\u001b[1;32m     76\u001b[0m \u001b[0;31m# pylint: enable=wildcard-import,g-import-not-at-top,unused-import,line-too-long\u001b[0m\u001b[0;34m\u001b[0m\u001b[0;34m\u001b[0m\u001b[0m\n",
      "\u001b[0;31mImportError\u001b[0m: Traceback (most recent call last):\n  File \"/homes/extern/janmacdo/store/.miniconda3/envs/deepl/lib/python3.6/site-packages/tensorflow/python/pywrap_tensorflow.py\", line 58, in <module>\n    from tensorflow.python.pywrap_tensorflow_internal import *\n  File \"/homes/extern/janmacdo/store/.miniconda3/envs/deepl/lib/python3.6/site-packages/tensorflow/python/pywrap_tensorflow_internal.py\", line 28, in <module>\n    _pywrap_tensorflow_internal = swig_import_helper()\n  File \"/homes/extern/janmacdo/store/.miniconda3/envs/deepl/lib/python3.6/site-packages/tensorflow/python/pywrap_tensorflow_internal.py\", line 24, in swig_import_helper\n    _mod = imp.load_module('_pywrap_tensorflow_internal', fp, pathname, description)\n  File \"/homes/extern/janmacdo/store/.miniconda3/envs/deepl/lib/python3.6/imp.py\", line 243, in load_module\n    return load_dynamic(name, filename, file)\n  File \"/homes/extern/janmacdo/store/.miniconda3/envs/deepl/lib/python3.6/imp.py\", line 343, in load_dynamic\n    return _load(spec)\nImportError: libcuda.so.1: cannot open shared object file: No such file or directory\n\n\nFailed to load the native TensorFlow runtime.\n\nSee https://www.tensorflow.org/install/errors\n\nfor some common reasons and solutions.  Include the entire stack trace\nabove this error message when asking for help."
     ]
    }
   ],
   "source": [
    "import numpy as np\n",
    "import tensorflow as tf"
   ]
  },
  {
   "cell_type": "markdown",
   "metadata": {},
   "source": [
    "At the core of Tensorflow are the **tensors**, which can be thought of as multi-dimensional data-containers.\n",
    "* 1D tensor represents for exmple a **vector** or a collection of scalars.\n",
    "* a 2D tensor represents for example a **matrix** or a collection of vectors.\n",
    "* and so on...\n",
    "\n",
    "The **shape** of a tensor is the number of components in each of its dimensions, for example a tensor representing a $5\\times 4$ matrix has shape $[5, 4]$.\n",
    "\n",
    "There are several types of tensors in Tensorflow:\n",
    "* **constant** tensors (these have defined shape and values and are not changed after creation)\n",
    "* **variable** tensors (these have defined shape and initial values but can be changed after creation, for example used for the weights of a neural network)\n",
    "* **placeholder** tensors (these only have a shape but do not contain any data (yet) and are used to serve as placeholders in computations where the data is provided later, for example network inputs)"
   ]
  },
  {
   "cell_type": "code",
   "execution_count": null,
   "metadata": {},
   "outputs": [],
   "source": [
    "# create a constant scalar (0D) tensor with value 5\n",
    "constant_scalar = tf.constant(5.0)\n",
    "print(constant_scalar)"
   ]
  },
  {
   "cell_type": "code",
   "execution_count": null,
   "metadata": {},
   "outputs": [],
   "source": [
    "# create a constant matrix (2D) tensor with random values\n",
    "constant_matrix = tf.constant(np.random.randn(3,2))\n",
    "print(constant_matrix)"
   ]
  },
  {
   "cell_type": "markdown",
   "metadata": {},
   "source": [
    "During the creation of a tensor its **data type** can be specified by providing the `dtype` argument. For example we can create floating point tensors using 32-bit single precision instead of 64-bit double precision arithmetic (which is usually accurate enough for many applications but decreases computational costs). We can also give **names** to tensors to make it easier to identify them later."
   ]
  },
  {
   "cell_type": "code",
   "execution_count": null,
   "metadata": {},
   "outputs": [],
   "source": [
    "# create a variable matrix (2D) tensor with random inital values\n",
    "variable_matrix = tf.Variable(np.random.randn(3,2), dtype=tf.float32, name='my_matrix')\n",
    "print(variable_matrix)\n",
    "\n",
    "variable_vector = tf.Variable(np.random.randn(3), dtype=tf.float32, name='my_vector')\n",
    "print(variable_vector)"
   ]
  },
  {
   "cell_type": "markdown",
   "metadata": {},
   "source": [
    "Tensors can be transformed into other tensors by so called **operations** (ops). For example we can define another tensor, for example an input placeholder, and compute a new tensor using the **matrix multiplication** and **vector addition** operations.\n",
    "\n",
    "However, note that **matrix multiplication** requires two matrices, so we have to **reshape** the vector tensor into a matrix with a single column. After the mutiplication we can reshape the result back into a vector.\n",
    "\n",
    "Finally we can apply a componentwise non-linear function, for example the ReLU. We have then coded our first neural network layer."
   ]
  },
  {
   "cell_type": "code",
   "execution_count": null,
   "metadata": {},
   "outputs": [],
   "source": [
    "placeholder_input = tf.placeholder(dtype=tf.float32, shape=(2,), name='my_input')\n",
    "print(placeholder_input)\n",
    "matrix_product = tf.reshape(tf.matmul(variable_matrix, tf.reshape(placeholder_input, [2, 1])), [3])\n",
    "print(matrix_product)\n",
    "vector_sum = matrix_product + variable_vector\n",
    "print(vector_sum)\n",
    "relu_vector = tf.nn.relu(vector_sum)\n",
    "print(relu_vector)"
   ]
  },
  {
   "cell_type": "markdown",
   "metadata": {},
   "source": [
    "Okay this is nice, but we want to see the actual values of the tensors, not only the shape and name. We can not do this yet, becaus all we have done so far is building the so called **computation graph**, which tells Tensorflow how tensors are related. But no actual computations have been done, which in fact is not even possible yet, since Tensorflow does not know the values of our placeholder vector. So we have to do three things:\n",
    "1. Start a Tensorflow **session**, which is used to manage the actual computations (for example determine which computations should be done on which hardware device in case you have multiple devices like CPU cores and GPU).\n",
    "2. Initialize all tensors in the computation graph. \n",
    "2. Let the session run certain computations, by specifying which output tensors we would like to compute, and **feeding** in all placeholder values necessary to execute the computations."
   ]
  },
  {
   "cell_type": "code",
   "execution_count": null,
   "metadata": {},
   "outputs": [],
   "source": [
    "session = tf.Session()\n",
    "session.run(tf.global_variables_initializer())\n",
    "relu_vector_value = session.run([relu_vector], feed_dict={placeholder_input: np.asarray([1, 2])})\n",
    "print(relu_vector_value)"
   ]
  },
  {
   "cell_type": "markdown",
   "metadata": {},
   "source": [
    "In order to **train** the variable tensors in our network, we need to define a second placeholder for the desired output values, a **loss** function that we wish to minimize, and an **optimizer**, for example a gradient descent method. As before, we wil first define the operations as part of the computation graph and then let the session run these operations to take an effect.\n",
    "\n",
    "Let us try to train our single layer network to learn the very simple map \n",
    "\n",
    "$$ \\begin{pmatrix} x_1\\\\ x_2 \\end{pmatrix} \\mapsto \\begin{pmatrix} \\mathrm{relu}(x_1) \\\\ 0 \\\\ 0 \\end{pmatrix}$$"
   ]
  },
  {
   "cell_type": "code",
   "execution_count": null,
   "metadata": {
    "scrolled": true
   },
   "outputs": [],
   "source": [
    "placeholder_output = tf.placeholder(dtype=tf.float32, shape=[3], name='my_output')\n",
    "loss = tf.reduce_sum(tf.square(relu_vector-placeholder_output))\n",
    "optimizer = tf.train.GradientDescentOptimizer(0.1)\n",
    "gradient_descent_step = optimizer.minimize(loss)\n",
    "\n",
    "# run some gradient descent steps with random inputs and observe the loss function\n",
    "print('{:8s}\\t{:8s}\\n{:8s}\\t{:8s}'.format('iter', 'loss', '--------', '--------'))\n",
    "for i in range(150):\n",
    "    in_vec = np.random.randn(2)\n",
    "    out_vec = np.maximum(0, np.append(in_vec, 0))*[1, 0, 0]\n",
    "    _, loss_value = session.run(\n",
    "        [gradient_descent_step, loss], \n",
    "        feed_dict={placeholder_input: in_vec, placeholder_output:out_vec }\n",
    "    )\n",
    "    print('{:8d}\\t{:1.2e}'.format(i, loss_value))"
   ]
  },
  {
   "cell_type": "markdown",
   "metadata": {},
   "source": [
    "Let us see what the network has **learned** and retrieve the values of the variable tensors. Note how we do not have to feed values for the placeholder vectors this time, as no computations involving them have to be computed now."
   ]
  },
  {
   "cell_type": "code",
   "execution_count": null,
   "metadata": {},
   "outputs": [],
   "source": [
    "matrix_value, vector_value = session.run([variable_matrix, variable_vector])\n",
    "print(matrix_value)\n",
    "print(vector_value)"
   ]
  },
  {
   "cell_type": "markdown",
   "metadata": {},
   "source": [
    "In most cases we will not feed single input vectors to a call of `session.run()` but always collections of multiple input vectors, called batches. It is customary to reserve the first dimension of all tensors for the batch index. Hence, if you build Tensorflow operations always make sure that your code can handle tensors with an additional first dimension that is passed on unaltered. If the size of batches is not known before, Tensorflow allows tensors to have an undetermined shape in some dimensions.\n",
    "\n",
    "For example the placeholder tensor below can be fed with a collection of 5 dimensional vectors, however the number of vectors can vary."
   ]
  },
  {
   "cell_type": "code",
   "execution_count": null,
   "metadata": {},
   "outputs": [],
   "source": [
    "batched_vectors = tf.placeholder(dtype=tf.float32, shape=[None, 5])\n",
    "print(batched_vectors)"
   ]
  },
  {
   "cell_type": "markdown",
   "metadata": {},
   "source": [
    "For various frequently used operations Tensorflow provides shortcut aliases. For example the single ReLU layer that we have created above can be simply defined using the `dense` operation which creates a fully connected layer. In that case we do not have to worry about creating the variable tensors (this will be done automatically by Tensorflow \"under the hood\"). This simplicity comes at the cost of less flexibility though, as we do not have direct access to the variable tensors. So the best way to define a network is a matter of personal preference and depends on the application...there is usually more than one way to do something in Tenorflow.\n",
    "\n",
    "Have a look around the [Tensorflow Documentation](https://www.tensorflow.org/api_docs/python/tf) to see what other operations are available."
   ]
  },
  {
   "cell_type": "code",
   "execution_count": null,
   "metadata": {},
   "outputs": [],
   "source": [
    "alternative_relu_vector = tf.layers.dense(tf.reshape(placeholder_input, [-1, 2]), 3, activation=tf.nn.relu)\n",
    "print(alternative_relu_vector)"
   ]
  },
  {
   "cell_type": "code",
   "execution_count": null,
   "metadata": {},
   "outputs": [],
   "source": []
  }
 ],
 "metadata": {
  "kernelspec": {
   "display_name": "Python 3",
   "language": "python",
   "name": "python3"
  },
  "language_info": {
   "codemirror_mode": {
    "name": "ipython",
    "version": 3
   },
   "file_extension": ".py",
   "mimetype": "text/x-python",
   "name": "python",
   "nbconvert_exporter": "python",
   "pygments_lexer": "ipython3",
   "version": "3.6.6"
  }
 },
 "nbformat": 4,
 "nbformat_minor": 2
}
